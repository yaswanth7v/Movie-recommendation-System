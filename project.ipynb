{
 "cells": [
  {
   "cell_type": "code",
   "execution_count": 8,
   "metadata": {},
   "outputs": [],
   "source": [
    "import pandas as pd\n",
    "import numpy as np\n"
   ]
  },
  {
   "cell_type": "code",
   "execution_count": 9,
   "metadata": {},
   "outputs": [
    {
     "data": {
      "text/html": [
       "<div>\n",
       "<style scoped>\n",
       "    .dataframe tbody tr th:only-of-type {\n",
       "        vertical-align: middle;\n",
       "    }\n",
       "\n",
       "    .dataframe tbody tr th {\n",
       "        vertical-align: top;\n",
       "    }\n",
       "\n",
       "    .dataframe thead th {\n",
       "        text-align: right;\n",
       "    }\n",
       "</style>\n",
       "<table border=\"1\" class=\"dataframe\">\n",
       "  <thead>\n",
       "    <tr style=\"text-align: right;\">\n",
       "      <th></th>\n",
       "      <th>budget</th>\n",
       "      <th>genres</th>\n",
       "      <th>homepage</th>\n",
       "      <th>id</th>\n",
       "      <th>keywords</th>\n",
       "      <th>original_language</th>\n",
       "      <th>original_title</th>\n",
       "      <th>overview</th>\n",
       "      <th>popularity</th>\n",
       "      <th>production_companies</th>\n",
       "      <th>production_countries</th>\n",
       "      <th>release_date</th>\n",
       "      <th>revenue</th>\n",
       "      <th>runtime</th>\n",
       "      <th>spoken_languages</th>\n",
       "      <th>status</th>\n",
       "      <th>tagline</th>\n",
       "      <th>title</th>\n",
       "      <th>vote_average</th>\n",
       "      <th>vote_count</th>\n",
       "    </tr>\n",
       "  </thead>\n",
       "  <tbody>\n",
       "    <tr>\n",
       "      <th>0</th>\n",
       "      <td>237000000</td>\n",
       "      <td>[{\"id\": 28, \"name\": \"Action\"}, {\"id\": 12, \"nam...</td>\n",
       "      <td>http://www.avatarmovie.com/</td>\n",
       "      <td>19995</td>\n",
       "      <td>[{\"id\": 1463, \"name\": \"culture clash\"}, {\"id\":...</td>\n",
       "      <td>en</td>\n",
       "      <td>Avatar</td>\n",
       "      <td>In the 22nd century, a paraplegic Marine is di...</td>\n",
       "      <td>150.437577</td>\n",
       "      <td>[{\"name\": \"Ingenious Film Partners\", \"id\": 289...</td>\n",
       "      <td>[{\"iso_3166_1\": \"US\", \"name\": \"United States o...</td>\n",
       "      <td>2009-12-10</td>\n",
       "      <td>2787965087</td>\n",
       "      <td>162.0</td>\n",
       "      <td>[{\"iso_639_1\": \"en\", \"name\": \"English\"}, {\"iso...</td>\n",
       "      <td>Released</td>\n",
       "      <td>Enter the World of Pandora.</td>\n",
       "      <td>Avatar</td>\n",
       "      <td>7.2</td>\n",
       "      <td>11800</td>\n",
       "    </tr>\n",
       "  </tbody>\n",
       "</table>\n",
       "</div>"
      ],
      "text/plain": [
       "      budget                                             genres  \\\n",
       "0  237000000  [{\"id\": 28, \"name\": \"Action\"}, {\"id\": 12, \"nam...   \n",
       "\n",
       "                      homepage     id  \\\n",
       "0  http://www.avatarmovie.com/  19995   \n",
       "\n",
       "                                            keywords original_language  \\\n",
       "0  [{\"id\": 1463, \"name\": \"culture clash\"}, {\"id\":...                en   \n",
       "\n",
       "  original_title                                           overview  \\\n",
       "0         Avatar  In the 22nd century, a paraplegic Marine is di...   \n",
       "\n",
       "   popularity                               production_companies  \\\n",
       "0  150.437577  [{\"name\": \"Ingenious Film Partners\", \"id\": 289...   \n",
       "\n",
       "                                production_countries release_date     revenue  \\\n",
       "0  [{\"iso_3166_1\": \"US\", \"name\": \"United States o...   2009-12-10  2787965087   \n",
       "\n",
       "   runtime                                   spoken_languages    status  \\\n",
       "0    162.0  [{\"iso_639_1\": \"en\", \"name\": \"English\"}, {\"iso...  Released   \n",
       "\n",
       "                       tagline   title  vote_average  vote_count  \n",
       "0  Enter the World of Pandora.  Avatar           7.2       11800  "
      ]
     },
     "execution_count": 9,
     "metadata": {},
     "output_type": "execute_result"
    }
   ],
   "source": [
    "\n",
    "df= pd.read_csv(\"tmdb_5000_movies.csv/tmdb_5000_movies.csv\")\n",
    "df[0:1]"
   ]
  },
  {
   "cell_type": "code",
   "execution_count": 10,
   "metadata": {},
   "outputs": [
    {
     "data": {
      "text/plain": [
       "0    In the 22nd century, a paraplegic Marine is di...\n",
       "Name: overview, dtype: object"
      ]
     },
     "execution_count": 10,
     "metadata": {},
     "output_type": "execute_result"
    }
   ],
   "source": [
    "df[0:1][\"overview\"]"
   ]
  },
  {
   "cell_type": "code",
   "execution_count": 11,
   "metadata": {},
   "outputs": [],
   "source": [
    "rmv_columns = [\"id\" ,\"genres\", \"title\", \"tagline\",\"keywords\", \"original_language\", \"original_title\", \"overview\", \"popularity\", \"runtime\", \"spoken_languages\", \"vote_average\", \"vote_count\"]"
   ]
  },
  {
   "cell_type": "code",
   "execution_count": 12,
   "metadata": {},
   "outputs": [],
   "source": [
    "import json  # To parse JSON strings\n",
    "\n",
    "def create_textual_representation(row):\n",
    "    # Helper function to extract only 'name' from lists of dictionaries\n",
    "    def extract_names(lst):\n",
    "        if isinstance(lst, str):\n",
    "            # Convert JSON-like string to Python list/dict\n",
    "            try:\n",
    "                lst = json.loads(lst)\n",
    "            except json.JSONDecodeError:\n",
    "                return lst  # Return as-is if it cannot be decoded\n",
    "        if isinstance(lst, list):\n",
    "            return \", \".join([item[\"name\"] for item in lst if \"name\" in item])\n",
    "        return lst\n",
    "\n",
    "    textual_representation = f\"\"\"Title: {row[\"title\"]},\n",
    "    Tagline: {row[\"tagline\"]},\n",
    "    Genres: {extract_names(row[\"genres\"])},\n",
    "    Keywords: {extract_names(row[\"keywords\"])},\n",
    "    Original Language: {row[\"original_language\"]},\n",
    "    Original Title: {row[\"original_title\"]},\n",
    "    Overview: {row[\"overview\"]},\n",
    "    Popularity: {row[\"popularity\"]},\n",
    "    Runtime: {row[\"runtime\"]},\n",
    "    Spoken Languages: {extract_names(row[\"spoken_languages\"])},\n",
    "    Vote Average: {row[\"vote_average\"]},\n",
    "    Vote Count: {row[\"vote_count\"]}\n",
    "    \"\"\"\n",
    "    return textual_representation\n"
   ]
  },
  {
   "cell_type": "code",
   "execution_count": 13,
   "metadata": {},
   "outputs": [],
   "source": [
    "df[\"textual_representation\"] = df.apply(create_textual_representation, axis=1)"
   ]
  },
  {
   "cell_type": "code",
   "execution_count": 14,
   "metadata": {},
   "outputs": [
    {
     "name": "stdout",
     "output_type": "stream",
     "text": [
      "Title: Avatar,\n",
      "    Tagline: Enter the World of Pandora.,\n",
      "    Genres: Action, Adventure, Fantasy, Science Fiction,\n",
      "    Keywords: culture clash, future, space war, space colony, society, space travel, futuristic, romance, space, alien, tribe, alien planet, cgi, marine, soldier, battle, love affair, anti war, power relations, mind and soul, 3d,\n",
      "    Original Language: en,\n",
      "    Original Title: Avatar,\n",
      "    Overview: In the 22nd century, a paraplegic Marine is dispatched to the moon Pandora on a unique mission, but becomes torn between following orders and protecting an alien civilization.,\n",
      "    Popularity: 150.437577,\n",
      "    Runtime: 162.0,\n",
      "    Spoken Languages: English, Español,\n",
      "    Vote Average: 7.2,\n",
      "    Vote Count: 11800\n",
      "    \n"
     ]
    }
   ],
   "source": [
    "print(df[\"textual_representation\"].values[0])"
   ]
  },
  {
   "cell_type": "code",
   "execution_count": 15,
   "metadata": {},
   "outputs": [
    {
     "name": "stdout",
     "output_type": "stream",
     "text": [
      "Index(['budget', 'genres', 'homepage', 'id', 'keywords', 'original_language',\n",
      "       'original_title', 'overview', 'popularity', 'production_companies',\n",
      "       'production_countries', 'release_date', 'revenue', 'runtime',\n",
      "       'spoken_languages', 'status', 'tagline', 'title', 'vote_average',\n",
      "       'vote_count', 'textual_representation'],\n",
      "      dtype='object')\n"
     ]
    }
   ],
   "source": [
    "print(df.columns)"
   ]
  },
  {
   "cell_type": "code",
   "execution_count": 16,
   "metadata": {},
   "outputs": [
    {
     "name": "stdout",
     "output_type": "stream",
     "text": [
      "(4803,)\n"
     ]
    }
   ],
   "source": [
    "print(df['textual_representation'].shape)"
   ]
  },
  {
   "cell_type": "code",
   "execution_count": 34,
   "metadata": {},
   "outputs": [],
   "source": [
    "import faiss\n",
    "import requests\n",
    "\n",
    "dim = 4096\n",
    "index = faiss.IndexFlatL2(dim)\n",
    "\n",
    "x = np.zeros((len(df[\"textual_representation\"]), dim), dtype='float32')\n"
   ]
  },
  {
   "cell_type": "code",
   "execution_count": 36,
   "metadata": {},
   "outputs": [
    {
     "data": {
      "text/plain": [
       "(4803, 4096)"
      ]
     },
     "execution_count": 36,
     "metadata": {},
     "output_type": "execute_result"
    }
   ],
   "source": [
    "x.shape"
   ]
  },
  {
   "cell_type": "code",
   "execution_count": null,
   "metadata": {},
   "outputs": [],
   "source": [
    "!pip install faiss-cpu"
   ]
  },
  {
   "cell_type": "code",
   "execution_count": null,
   "metadata": {},
   "outputs": [],
   "source": [
    "!pip install tf-keras\n"
   ]
  },
  {
   "cell_type": "code",
   "execution_count": 6,
   "metadata": {},
   "outputs": [
    {
     "name": "stdout",
     "output_type": "stream",
     "text": [
      "WARNING:tensorflow:From C:\\Users\\hp\\AppData\\Roaming\\Python\\Python312\\site-packages\\tf_keras\\src\\losses.py:2976: The name tf.losses.sparse_softmax_cross_entropy is deprecated. Please use tf.compat.v1.losses.sparse_softmax_cross_entropy instead.\n",
      "\n"
     ]
    },
    {
     "data": {
      "application/vnd.jupyter.widget-view+json": {
       "model_id": "8d3e0b461d26420bb8d87e054b980647",
       "version_major": 2,
       "version_minor": 0
      },
      "text/plain": [
       "modules.json:   0%|          | 0.00/349 [00:00<?, ?B/s]"
      ]
     },
     "metadata": {},
     "output_type": "display_data"
    },
    {
     "name": "stderr",
     "output_type": "stream",
     "text": [
      "C:\\Users\\hp\\AppData\\Roaming\\Python\\Python312\\site-packages\\huggingface_hub\\file_download.py:159: UserWarning: `huggingface_hub` cache-system uses symlinks by default to efficiently store duplicated files but your machine does not support them in C:\\Users\\hp\\.cache\\huggingface\\hub\\models--sentence-transformers--all-MiniLM-L6-v2. Caching files will still work but in a degraded version that might require more space on your disk. This warning can be disabled by setting the `HF_HUB_DISABLE_SYMLINKS_WARNING` environment variable. For more details, see https://huggingface.co/docs/huggingface_hub/how-to-cache#limitations.\n",
      "To support symlinks on Windows, you either need to activate Developer Mode or to run Python as an administrator. In order to see activate developer mode, see this article: https://docs.microsoft.com/en-us/windows/apps/get-started/enable-your-device-for-development\n",
      "  warnings.warn(message)\n"
     ]
    },
    {
     "data": {
      "application/vnd.jupyter.widget-view+json": {
       "model_id": "b355aac19fee43dbb2efb40ffc514011",
       "version_major": 2,
       "version_minor": 0
      },
      "text/plain": [
       "config_sentence_transformers.json:   0%|          | 0.00/116 [00:00<?, ?B/s]"
      ]
     },
     "metadata": {},
     "output_type": "display_data"
    },
    {
     "data": {
      "application/vnd.jupyter.widget-view+json": {
       "model_id": "593c757a242149eebd23a7d5390ea7c3",
       "version_major": 2,
       "version_minor": 0
      },
      "text/plain": [
       "README.md:   0%|          | 0.00/10.7k [00:00<?, ?B/s]"
      ]
     },
     "metadata": {},
     "output_type": "display_data"
    },
    {
     "data": {
      "application/vnd.jupyter.widget-view+json": {
       "model_id": "325c87894ffa48129d3d709c20121634",
       "version_major": 2,
       "version_minor": 0
      },
      "text/plain": [
       "sentence_bert_config.json:   0%|          | 0.00/53.0 [00:00<?, ?B/s]"
      ]
     },
     "metadata": {},
     "output_type": "display_data"
    },
    {
     "data": {
      "application/vnd.jupyter.widget-view+json": {
       "model_id": "05f324a62cd94381a0d6cf1b5f792a91",
       "version_major": 2,
       "version_minor": 0
      },
      "text/plain": [
       "config.json:   0%|          | 0.00/612 [00:00<?, ?B/s]"
      ]
     },
     "metadata": {},
     "output_type": "display_data"
    },
    {
     "data": {
      "application/vnd.jupyter.widget-view+json": {
       "model_id": "27bc91ca6b044c59ae116430c5eac45c",
       "version_major": 2,
       "version_minor": 0
      },
      "text/plain": [
       "model.safetensors:   0%|          | 0.00/90.9M [00:00<?, ?B/s]"
      ]
     },
     "metadata": {},
     "output_type": "display_data"
    },
    {
     "data": {
      "application/vnd.jupyter.widget-view+json": {
       "model_id": "c8d9d14517404556b5a16c91b18a6a05",
       "version_major": 2,
       "version_minor": 0
      },
      "text/plain": [
       "tokenizer_config.json:   0%|          | 0.00/350 [00:00<?, ?B/s]"
      ]
     },
     "metadata": {},
     "output_type": "display_data"
    },
    {
     "data": {
      "application/vnd.jupyter.widget-view+json": {
       "model_id": "3a98d3fee1b7464292907e449c7e805f",
       "version_major": 2,
       "version_minor": 0
      },
      "text/plain": [
       "vocab.txt:   0%|          | 0.00/232k [00:00<?, ?B/s]"
      ]
     },
     "metadata": {},
     "output_type": "display_data"
    },
    {
     "data": {
      "application/vnd.jupyter.widget-view+json": {
       "model_id": "20d6d6ce8c1a4ff58332748b41ebbd51",
       "version_major": 2,
       "version_minor": 0
      },
      "text/plain": [
       "tokenizer.json:   0%|          | 0.00/466k [00:00<?, ?B/s]"
      ]
     },
     "metadata": {},
     "output_type": "display_data"
    },
    {
     "data": {
      "application/vnd.jupyter.widget-view+json": {
       "model_id": "100cb06d155f4ede8b141037e571542d",
       "version_major": 2,
       "version_minor": 0
      },
      "text/plain": [
       "special_tokens_map.json:   0%|          | 0.00/112 [00:00<?, ?B/s]"
      ]
     },
     "metadata": {},
     "output_type": "display_data"
    },
    {
     "name": "stderr",
     "output_type": "stream",
     "text": [
      "C:\\Users\\hp\\AppData\\Roaming\\Python\\Python312\\site-packages\\transformers\\tokenization_utils_base.py:1601: FutureWarning: `clean_up_tokenization_spaces` was not set. It will be set to `True` by default. This behavior will be depracted in transformers v4.45, and will be then set to `False` by default. For more details check this issue: https://github.com/huggingface/transformers/issues/31884\n",
      "  warnings.warn(\n"
     ]
    },
    {
     "data": {
      "application/vnd.jupyter.widget-view+json": {
       "model_id": "8470396ed3614478bfb0e195356f3c13",
       "version_major": 2,
       "version_minor": 0
      },
      "text/plain": [
       "1_Pooling/config.json:   0%|          | 0.00/190 [00:00<?, ?B/s]"
      ]
     },
     "metadata": {},
     "output_type": "display_data"
    }
   ],
   "source": [
    "from sentence_transformers import SentenceTransformer\n",
    "import faiss\n",
    "import numpy as np\n",
    "\n",
    "# Example movie metadata (titles or descriptions)\n",
    "# movies = [\n",
    "#     \"Inception, A thief who steals corporate secrets through the use of dream-sharing technology.\",\n",
    "#     \"The Matrix, A computer hacker learns about the true nature of his reality.\",\n",
    "#     \"Interstellar, A team of explorers travels through a wormhole in space in an attempt to ensure humanity's survival.\",\n",
    "#     \"The Godfather, The aging patriarch of an organized crime dynasty transfers control of his clandestine empire to his reluctant son.\"\n",
    "# ]\n",
    "\n",
    "\n",
    "\n",
    "# Step 1: Load a pre-trained sentence transformer model\n",
    "model = SentenceTransformer('all-MiniLM-L6-v2')\n",
    "\n"
   ]
  },
  {
   "cell_type": "code",
   "execution_count": 17,
   "metadata": {},
   "outputs": [
    {
     "data": {
      "text/plain": [
       "0       Title: Avatar,\\n    Tagline: Enter the World o...\n",
       "1       Title: Pirates of the Caribbean: At World's En...\n",
       "2       Title: Spectre,\\n    Tagline: A Plan No One Es...\n",
       "3       Title: The Dark Knight Rises,\\n    Tagline: Th...\n",
       "4       Title: John Carter,\\n    Tagline: Lost in our ...\n",
       "                              ...                        \n",
       "4798    Title: El Mariachi,\\n    Tagline: He didn't co...\n",
       "4799    Title: Newlyweds,\\n    Tagline: A newlywed cou...\n",
       "4800    Title: Signed, Sealed, Delivered,\\n    Tagline...\n",
       "4801    Title: Shanghai Calling,\\n    Tagline: A New Y...\n",
       "4802    Title: My Date with Drew,\\n    Tagline: nan,\\n...\n",
       "Name: textual_representation, Length: 4803, dtype: object"
      ]
     },
     "execution_count": 17,
     "metadata": {},
     "output_type": "execute_result"
    }
   ],
   "source": [
    "movies = df[\"textual_representation\"]\n",
    "movies"
   ]
  },
  {
   "cell_type": "code",
   "execution_count": 18,
   "metadata": {},
   "outputs": [
    {
     "name": "stdout",
     "output_type": "stream",
     "text": [
      "Number of vectors in the FAISS index: 4803\n",
      "Query: A space exploration team ventures beyond the galaxy.\n",
      "Top similar movies:\n",
      "Movie: Title: Star Trek Beyond,\n",
      "    Tagline: nan,\n",
      "    Genres: Action, Adventure, Science Fiction,\n",
      "    Keywords: sequel, stranded, hatred, space opera,\n",
      "    Original Language: en,\n",
      "    Original Title: Star Trek Beyond,\n",
      "    Overview: The USS Enterprise crew explores the furthest reaches of uncharted space, where they encounter a mysterious new enemy who puts them and everything the Federation stands for to the test.,\n",
      "    Popularity: 65.352913,\n",
      "    Runtime: 122.0,\n",
      "    Spoken Languages: English,\n",
      "    Vote Average: 6.6,\n",
      "    Vote Count: 2568\n",
      "    , Distance: 0.943598747253418\n",
      "Movie: Title: Star Trek,\n",
      "    Tagline: The future begins.,\n",
      "    Genres: Science Fiction, Action, Adventure,\n",
      "    Keywords: spacecraft, teleportation, space mission, parachute, time travel, black hole, supernova, prequel, warp speed, futuristic, warp engine, romulans, outer space, vulcan, alternate reality, space opera, reboot,\n",
      "    Original Language: en,\n",
      "    Original Title: Star Trek,\n",
      "    Overview: The fate of the galaxy rests in the hands of bitter rivals. One, James Kirk, is a delinquent, thrill-seeking Iowa farm boy. The other, Spock, a Vulcan, was raised in a logic-based society that rejects all emotion. As fiery instinct clashes with calm reason, their unlikely but powerful partnership is the only thing capable of leading their crew through unimaginable danger, boldly going where no one has gone before. The human adventure has begun again.,\n",
      "    Popularity: 73.616808,\n",
      "    Runtime: 127.0,\n",
      "    Spoken Languages: English,\n",
      "    Vote Average: 7.4,\n",
      "    Vote Count: 4518\n",
      "    , Distance: 0.9731906056404114\n",
      "Movie: Title: Galaxy Quest,\n",
      "    Tagline: A comedy of Galactic Proportions.,\n",
      "    Genres: Comedy, Family, Science Fiction,\n",
      "    Keywords: space battle, spaceship, spoof, fictional tv show,\n",
      "    Original Language: en,\n",
      "    Original Title: Galaxy Quest,\n",
      "    Overview: The stars of a 1970s sci-fi show - now scraping a living through re-runs and sci-fi conventions - are beamed aboard an alien spacecraft. Believing the cast's heroic on-screen dramas are historical documents of real-life adventures, the band of aliens turn to the ailing celebrities for help in their quest to overcome the oppressive regime in their solar system.,\n",
      "    Popularity: 30.816341,\n",
      "    Runtime: 102.0,\n",
      "    Spoken Languages: English,\n",
      "    Vote Average: 6.9,\n",
      "    Vote Count: 710\n",
      "    , Distance: 0.9918413162231445\n"
     ]
    }
   ],
   "source": [
    "# Step 2: Generate embeddings for the movie metadata\n",
    "embeddings = model.encode(movies)\n",
    "\n",
    "# Step 3: Convert embeddings to a numpy array (float32)\n",
    "embeddings = np.array(embeddings).astype('float32')\n",
    "\n",
    "# Step 4: Create a FAISS index\n",
    "# IndexFlatL2 is a simple index that computes L2 distance\n",
    "index = faiss.IndexFlatL2(embeddings.shape[1])\n",
    "\n",
    "# Step 5: Add embeddings to the FAISS index\n",
    "index.add(embeddings)\n",
    "\n",
    "# Optional: Save the FAISS index to a file for future use\n",
    "faiss.write_index(index, \"movies_faiss.index\")\n",
    "\n",
    "# Check the number of vectors in the index\n",
    "print(f\"Number of vectors in the FAISS index: {index.ntotal}\")\n",
    "\n",
    "# Example search: Find the most similar movie based on a query\n",
    "query = \"A space exploration team ventures beyond the galaxy.\"\n",
    "query_embedding = model.encode([query]).astype('float32')\n",
    "\n",
    "# Perform a similarity search (k=3 nearest neighbors)\n",
    "k = 3\n",
    "distances, indices = index.search(query_embedding, k)\n",
    "\n",
    "# Show results\n",
    "print(f\"Query: {query}\")\n",
    "print(\"Top similar movies:\")\n",
    "for i in range(k):\n",
    "    print(f\"Movie: {movies[indices[0][i]]}, Distance: {distances[0][i]}\")\n"
   ]
  },
  {
   "cell_type": "code",
   "execution_count": 23,
   "metadata": {},
   "outputs": [
    {
     "name": "stdout",
     "output_type": "stream",
     "text": [
      ", id: 119, Movie: Title: Batman Begins,\n",
      "    Tagline: Evil fears the knight.,\n",
      "    Genres: Action, Crime, Drama,\n",
      "    Keywords: himalaya, martial arts, dc comics, crime fighter, secret identity, undercover, hero, loss of father, society, gotham city, vigilante, superhero, based on comic book, rivalry, tragic hero, ninja, good vs evil, crime, super powers, haunted by the past, evil doctor, escapade, master villain, fighting crime, unfulfillment, love and romance, unfulfilled love,\n",
      "    Original Language: en,\n",
      "    Original Title: Batman Begins,\n",
      "    Overview: Driven by tragedy, billionaire Bruce Wayne dedicates his life to uncovering and defeating the corruption that plagues his home, Gotham City.  Unable to work within the system, he instead creates a new identity, a symbol of fear for the criminal underworld - The Batman.,\n",
      "    Popularity: 115.040024,\n",
      "    Runtime: 140.0,\n",
      "    Spoken Languages: English, اردو, 普通话,\n",
      "    Vote Average: 7.5,\n",
      "    Vote Count: 7359\n",
      "    , Distance: 0.5150232315063477\n",
      ", id: 3854, Movie: Title: Batman: The Dark Knight Returns, Part 2,\n",
      "    Tagline: Justice Returns... Vengeance Returns... Redemption Comes to Gotham.,\n",
      "    Genres: Action, Animation,\n",
      "    Keywords: dc comics, future, joker, robin, based on graphic novel, dystopic future, super powers,\n",
      "    Original Language: en,\n",
      "    Original Title: Batman: The Dark Knight Returns, Part 2,\n",
      "    Overview: Batman has stopped the reign of terror that The Mutants had cast upon his city.  Now an old foe wants a reunion and the government wants The Man of Steel to put a stop to Batman.,\n",
      "    Popularity: 25.891466,\n",
      "    Runtime: 78.0,\n",
      "    Spoken Languages: English,\n",
      "    Vote Average: 7.9,\n",
      "    Vote Count: 419\n",
      "    , Distance: 0.5912943482398987\n",
      ", id: 299, Movie: Title: Batman Forever,\n",
      "    Tagline: Courage now, truth always...,\n",
      "    Genres: Action, Crime, Fantasy,\n",
      "    Keywords: riddle, dc comics, rose, gotham city, partner, superhero, robin, broken neck, psychologist, violence, criminal, district attorney, millionaire, falling down stairs, tied up, tommy gun, beretta, knocked out, super powers, disfigurement, father figure,\n",
      "    Original Language: en,\n",
      "    Original Title: Batman Forever,\n",
      "    Overview: The Dark Knight of Gotham City confronts a dastardly duo: Two-Face and the Riddler. Formerly District Attorney Harvey Dent, Two-Face believes Batman caused the courtroom accident which left him disfigured on one side. And Edward Nygma, computer-genius and former employee of millionaire Bruce Wayne, is out to get the philanthropist; as The Riddler. Former circus acrobat Dick Grayson, his family killed by Two-Face, becomes Wayne's ward and Batman's new partner Robin.,\n",
      "    Popularity: 48.205606,\n",
      "    Runtime: 121.0,\n",
      "    Spoken Languages: English,\n",
      "    Vote Average: 5.2,\n",
      "    Vote Count: 1498\n",
      "    , Distance: 0.6366661787033081\n"
     ]
    }
   ],
   "source": [
    "query = df[\"textual_representation\"][3]\n",
    "\n",
    "# Step 1: Encode the query and reshape it to 2D\n",
    "query_embedding = model.encode([query]).astype('float32')  # Wrap the query in a list to make it 2D\n",
    "\n",
    "k = 5\n",
    "\n",
    "# Step 2: Perform the search\n",
    "distances, indices = index.search(query_embedding, k)\n",
    "\n",
    "# Step 3: Print the results\n",
    "for i in range(2,k):\n",
    "    movie_id = indices[0][i]\n",
    "\n",
    "    print(f\", id: {movie_id}, Movie: {movies[movie_id]}, Distance: {distances[0][i]}\")\n"
   ]
  },
  {
   "cell_type": "code",
   "execution_count": 25,
   "metadata": {},
   "outputs": [],
   "source": [
    "df.to_csv(\"movies.csv\", index=False)"
   ]
  },
  {
   "cell_type": "code",
   "execution_count": 26,
   "metadata": {},
   "outputs": [
    {
     "data": {
      "text/plain": [
       "Index(['budget', 'genres', 'homepage', 'id', 'keywords', 'original_language',\n",
       "       'original_title', 'overview', 'popularity', 'production_companies',\n",
       "       'production_countries', 'release_date', 'revenue', 'runtime',\n",
       "       'spoken_languages', 'status', 'tagline', 'title', 'vote_average',\n",
       "       'vote_count', 'textual_representation'],\n",
       "      dtype='object')"
      ]
     },
     "execution_count": 26,
     "metadata": {},
     "output_type": "execute_result"
    },
    {
     "ename": "",
     "evalue": "",
     "output_type": "error",
     "traceback": [
      "\u001b[1;31mThe Kernel crashed while executing code in the current cell or a previous cell. \n",
      "\u001b[1;31mPlease review the code in the cell(s) to identify a possible cause of the failure. \n",
      "\u001b[1;31mClick <a href='https://aka.ms/vscodeJupyterKernelCrash'>here</a> for more info. \n",
      "\u001b[1;31mView Jupyter <a href='command:jupyter.viewOutput'>log</a> for further details."
     ]
    }
   ],
   "source": [
    "df.columns"
   ]
  },
  {
   "cell_type": "code",
   "execution_count": null,
   "metadata": {},
   "outputs": [],
   "source": []
  }
 ],
 "metadata": {
  "kernelspec": {
   "display_name": "venv",
   "language": "python",
   "name": "python3"
  },
  "language_info": {
   "codemirror_mode": {
    "name": "ipython",
    "version": 3
   },
   "file_extension": ".py",
   "mimetype": "text/x-python",
   "name": "python",
   "nbconvert_exporter": "python",
   "pygments_lexer": "ipython3",
   "version": "3.12.2"
  }
 },
 "nbformat": 4,
 "nbformat_minor": 2
}
